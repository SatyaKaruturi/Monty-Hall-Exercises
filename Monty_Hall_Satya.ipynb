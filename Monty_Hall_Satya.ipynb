{
  "nbformat": 4,
  "nbformat_minor": 0,
  "metadata": {
    "colab": {
      "name": "Monty Hall_Satya",
      "provenance": [],
      "collapsed_sections": [],
      "include_colab_link": true
    },
    "kernelspec": {
      "name": "python3",
      "display_name": "Python 3"
    }
  },
  "cells": [
    {
      "cell_type": "markdown",
      "metadata": {
        "id": "view-in-github",
        "colab_type": "text"
      },
      "source": [
        "<a href=\"https://colab.research.google.com/github/SatyaKaruturi/Monty-Hall-Exercises/blob/master/Monty_Hall_Satya.ipynb\" target=\"_parent\"><img src=\"https://colab.research.google.com/assets/colab-badge.svg\" alt=\"Open In Colab\"/></a>"
      ]
    },
    {
      "cell_type": "markdown",
      "metadata": {
        "id": "s6odsFbLpgIh",
        "colab_type": "text"
      },
      "source": [
        "# Monty Hall\n",
        "\n",
        "**Ci-dessous une implémentation du jeux Monty Hall avec Python. Elle ne contient aucun commentaire.**"
      ]
    },
    {
      "cell_type": "markdown",
      "metadata": {
        "id": "QAqgGziZPsIZ",
        "colab_type": "text"
      },
      "source": [
        "## Mission 1\n",
        "\n",
        "Après avoir examiné le code ci-dessous, ajoute des commentaires **unilignes** et **multilignes** pour expliquer son fonctionnement à un autre développeur."
      ]
    },
    {
      "cell_type": "code",
      "metadata": {
        "id": "0dL7B4XiO1ft",
        "colab_type": "code",
        "outputId": "2e6c4911-8591-4656-f496-739ffa2afc39",
        "colab": {
          "base_uri": "https://localhost:8080/",
          "height": 269
        }
      },
      "source": [
        "import matplotlib.pyplot as plt  # pour crée le plot\n",
        "\n",
        "from random import randint #Ce module implémente des générateurs de nombres pseudo-aléatoires pour différentes distributions.\n",
        "\n",
        "\n",
        "\n",
        "CHANGER = \"changer\" \n",
        "GARDER = \"garder\"\n",
        "\n",
        "def jouerUnePartie(strategie): #crée le function pour fair le choisi changer et garder\n",
        "  \n",
        "    portes = [0, 1, 2] #no de portes\n",
        "    \n",
        "    bonne_porte = randint(0,2) \n",
        "    \n",
        "    premier_choix = randint(0,2)\n",
        "    \n",
        "    portes.remove(premier_choix)\n",
        "    \n",
        "    if premier_choix == bonne_porte:   #Si le premier choix du joueur est la bonne_porte le programme va enlever l'une des deux portes restantes \n",
        "        portes.remove(portes[randint(0,1)])\n",
        "    else:\n",
        "        portes = [bonne_porte]        #si le premier choix du joueur n'est pas la bonne_porte la porte egale index de la list equivallant de bonne porte\n",
        "    \n",
        "    deuxieme_choix = 0\n",
        "\n",
        "    if strategie.lower() == \"changer\": #si le joueur choisi changer la porte deuxieme_choix egale de la porte\n",
        "        deuxieme_choix = portes[0]\n",
        "    elif strategie.lower() == \"garder\": \n",
        "        deuxieme_choix = premier_choix #si le joueur choisi garder la porte deuxieme_choix egale de la premier_choix\n",
        "    else:\n",
        "        raise ValueError(\"Stratégie non reconnue!\") #si le joueur choisi un strategie differente le programme affiche une erreur\n",
        "    \n",
        "    return deuxieme_choix == bonne_porte\n",
        "\n",
        "\n",
        "def jouerPlusieursParties(strategie, nb_tours): #crée deuxieme function pour counter le nombre de tour à tester\n",
        "    \n",
        "    return [1 if jouerUnePartie(strategie) else 0 for i in range(nb_tours)]\n",
        "\n",
        "  \n",
        "plot = plt.bar([1,2],[sum(jouerPlusieursParties(\"changer\", 10000)), sum(jouerPlusieursParties(\"garder\", 10000))], \n",
        "               tick_label=[\"Changer\",\"Garder\"]) #crée le bar plot avec the sum of changer et garder"
      ],
      "execution_count": 0,
      "outputs": [
        {
          "output_type": "display_data",
          "data": {
            "image/png": "[encoded data removed]",
            "text/plain": [
              "<Figure size 432x288 with 1 Axes>"
            ]
          },
          "metadata": {
            "tags": []
          }
        }
      ]
    },
    {
      "cell_type": "markdown",
      "metadata": {
        "id": "KPuEESZDP-C-",
        "colab_type": "text"
      },
      "source": [
        "# Mission 2\n",
        "\n",
        "Pour m'assurer que tu as compris le code, dans une nouvelle cellule, modifie le code de la mission 1 pour ajouter entre les 2 batons une 3ème. Ce dernier portera le nom **\"Alterner\"**. Il s'agira du cas de figure ou le joueur alterne **aléatoirement** entre \"changer\" et \"garder\"\n"
      ]
    },
    {
      "cell_type": "code",
      "metadata": {
        "id": "3R82gwZxP9oo",
        "colab_type": "code",
        "outputId": "81c7d06d-d397-4f59-a512-7c3828006fbc",
        "colab": {
          "base_uri": "https://localhost:8080/",
          "height": 269
        }
      },
      "source": [
        "import matplotlib.pyplot as plt \n",
        "\n",
        "from random import randint \n",
        "\n",
        "\n",
        "\n",
        "CHANGER = \"changer\" \n",
        "GARDER = \"garder\"\n",
        "ALTERNER = \"alterner\"\n",
        "\n",
        "def jouerUnePartie(strategie): \n",
        "  \n",
        "    portes = [0, 1, 2]\n",
        "    \n",
        "    bonne_porte = randint(0,2)\n",
        "    \n",
        "    premier_choix = randint(0,2)\n",
        "   \n",
        "    \n",
        "    portes.remove(premier_choix)\n",
        "    \n",
        "    if premier_choix == bonne_porte:\n",
        "        portes.remove(portes[randint(0,1)])\n",
        "    else:\n",
        "        portes = [bonne_porte]\n",
        "    \n",
        "    deuxieme_choix = 0\n",
        "    \n",
        "    \n",
        "    if strategie.lower() == \"alterner\":\n",
        "        new_strategie = randint(0,1)\n",
        "        if new_strategie == 0:\n",
        "          strategie = \"garder\"\n",
        "        else:\n",
        "          strategie = \"changer\"\n",
        "\n",
        "    if strategie.lower() == \"changer\":\n",
        "        deuxieme_choix = portes[0]\n",
        "    elif strategie.lower() == \"garder\":\n",
        "        deuxieme_choix = premier_choix\n",
        "    else:\n",
        "        raise ValueError(\"Stratégie non reconnue!\")\n",
        "    \n",
        "    return deuxieme_choix == bonne_porte\n",
        "\n",
        "\n",
        "def jouerPlusieursParties(strategie, nb_tours):\n",
        "    \n",
        "    return [1 if jouerUnePartie(strategie) else 0 for i in range(nb_tours)]\n",
        "\n",
        "  \n",
        "plot = plt.bar([1,2,3],[sum(jouerPlusieursParties(\"changer\", 10000)),sum(jouerPlusieursParties(\"alterner\", 10000)), sum(jouerPlusieursParties(\"garder\", 10000))], \n",
        "               tick_label=[\"Changer\",\"alterner\",\"Garder\"])"
      ],
      "execution_count": 0,
      "outputs": [
        {
          "output_type": "display_data",
          "data": {
            "image/png": "[encoded data removed]",
            "text/plain": [
              "<Figure size 432x288 with 1 Axes>"
            ]
          },
          "metadata": {
            "tags": []
          }
        }
      ]
    },
    {
      "cell_type": "markdown",
      "metadata": {
        "id": "VPjKxsbQQbbx",
        "colab_type": "text"
      },
      "source": [
        "# Mission 3\n",
        "\n",
        "Maintenant, il faut que tu recodes le jeu du Monty Hall en utilisant Numpy. **Tu ne dois utiliser les listes Python, la méthode random de Python, ni de boucle for ou while dans le code**. Numpy contient des mécanismes qui permettent d'arriver au même résultat.\n",
        "\n",
        "Enfin, assemble les 2 fonctions, jouerUnePartie() et jouerPlusieursParties() dans une seule. Autrement dit, **ton programme Numpy ne contiendra qu'une seule fonction**. Évidemment, **le visuel devra être le même que la mission 2**."
      ]
    },
    {
      "cell_type": "code",
      "metadata": {
        "id": "IwRDK_YtQbre",
        "colab_type": "code",
        "outputId": "e0a47199-0170-428b-c7b8-eabe62fc01fb",
        "colab": {
          "base_uri": "https://localhost:8080/",
          "height": 286
        }
      },
      "source": [
        "import numpy as np\n",
        "import matplotlib.pyplot as plt\n",
        "from random import *\n",
        "\n",
        "def jouer_unepartie(strategie):\n",
        "  portes = [0, 1, 2]\n",
        "  \n",
        "  bonne_porte = np.random.randint(3, size = (1))\n",
        "  \n",
        "  premier_choix = np.random.randint(3, size = (1))\n",
        "  \n",
        "  portes_reste =np.delete(portes, premier_choix)\n",
        "  \n",
        "  if premier_choix == bonne_porte:\n",
        "       portes.remove(portes[np.random.randint(0,1)])\n",
        "  else:\n",
        "       portes = [bonne_porte]\n",
        "   \n",
        "  choix2 = 0\n",
        "  \n",
        "  if premier_choix == bonne_porte:\n",
        "        portes.remove(portes[np.random.randint(0,1)])\n",
        "  else:\n",
        "        portes = [bonne_porte]\n",
        "    \n",
        "  deuxieme_choix = 0\n",
        "    \n",
        "    \n",
        "  if strategie.lower() == \"alterner\":\n",
        "      new_strategie = randint(0,1)\n",
        "      if new_strategie == 0:\n",
        "          strategie = \"garder\"\n",
        "      else:\n",
        "          strategie = \"changer\"\n",
        "\n",
        "  if strategie.lower() == \"changer\":\n",
        "        deuxieme_choix = portes[0]\n",
        "  elif strategie.lower() == \"garder\":\n",
        "        deuxieme_choix = premier_choix\n",
        "  else:\n",
        "      raise ValueError(\"Stratégie non reconnue!\")\n",
        "    \n",
        "  return deuxieme_choix == bonne_porte\n",
        "\n",
        "vfunc = np.vectorize(jouer_unepartie)\n",
        "changer  = vfunc(np.array([\"changer\"]*10000)).sum()   \n",
        "alterner = vfunc(np.array([\"alterner\"]*10000)).sum() \n",
        "garder   = vfunc(np.array([\"garder\"]*10000)).sum()  \n",
        "\n",
        "plt.bar([1,2,3],[changer, alterner, garder], tick_label=[\"Changer\",\"Alterner\",\"Garder\"])"
      ],
      "execution_count": 0,
      "outputs": [
        {
          "output_type": "execute_result",
          "data": {
            "text/plain": [
              "<BarContainer object of 3 artists>"
            ]
          },
          "metadata": {
            "tags": []
          },
          "execution_count": 34
        },
        {
          "output_type": "display_data",
          "data": {
            "image/png": "[encoded data removed]",
            "text/plain": [
              "<Figure size 432x288 with 1 Axes>"
            ]
          },
          "metadata": {
            "tags": []
          }
        }
      ]
    }
  ]
}